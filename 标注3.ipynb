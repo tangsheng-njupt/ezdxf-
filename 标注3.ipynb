{
 "cells": [
  {
   "cell_type": "code",
   "execution_count": 2,
   "metadata": {},
   "outputs": [],
   "source": [
    "import ezdxf\n",
    "\n",
    "# 创建一个新的DXF文档\n",
    "doc = ezdxf.new('R2010')\n",
    "\n",
    "# 定义绘制区域\n",
    "msp = doc.modelspace()\n",
    "\n",
    "# 步骤2：用默认线型Bylayer绘制长12000，宽9000的矩形，长平行于X轴，宽平行于Y轴\n",
    "rect = msp.add_lwpolyline([(0, 0), (12000, 0), (12000, 9000), (0, 9000), (0, 0)])\n",
    "\n",
    "# 步骤3：先加载新的线型，选用CENTER，缩放比例因子设为10，绘制一条点划线，经过长的两个中点，超出矩形的边框两边各500，将矩形分为两半\n",
    "if 'CENTER' not in doc.linetypes:\n",
    "    doc.linetypes.new(name='CENTER', dxfattribs={\n",
    "        'description': 'Center line',\n",
    "        'pattern': 'A,.5,-.2,0,-.2'\n",
    "    })\n",
    "\n",
    "start_point = (-500, 4500)\n",
    "end_point = (12500, 4500)\n",
    "msp.add_line(start_point, end_point, dxfattribs={'linetype': 'CENTER', 'ltscale': 10})\n",
    "\n",
    "# 步骤4：用图案填充命令填充被点划线分割后左侧的矩形\n",
    "hatch = msp.add_hatch(color=5)\n",
    "hatch.set_pattern_fill('AR-B816', scale=5)\n",
    "hatch.paths.add_polyline_path([(0, 0), (6000, 0), (6000, 9000), (0, 9000), (0, 0)])\n",
    "\n",
    "# 添加水平尺寸标注\n",
    "dim1 = msp.add_linear_dim(\n",
    "    base=(0, -500),  # 尺寸线的基线位置\n",
    "    p1=(0, 0),      # 尺寸起点\n",
    "    p2=(12000, 0),  # 尺寸终点\n",
    "    override={\n",
    "        'dimtxsty': 'Standard',  # 使用标准文本样式\n",
    "        'dimclrd': 1,            # 尺寸线颜色\n",
    "        'dimclre': 1,            # 尺寸界线颜色\n",
    "        'dimclrt': 1,            # 尺寸文本颜色\n",
    "    }\n",
    ")\n",
    "dim1.render()\n",
    "\n",
    "# 添加垂直尺寸标注\n",
    "dim2 = msp.add_linear_dim(\n",
    "    base=(-500, 0),  # 尺寸线的基线位置\n",
    "    p1=(0, 0),      # 尺寸起点\n",
    "    p2=(0, 9000),   # 尺寸终点\n",
    "    angle=90,       # 尺寸线的角度\n",
    "    override={\n",
    "        'dimtxsty': 'Standard',  # 使用标准文本样式\n",
    "        'dimclrd': 1,            # 尺寸线颜色\n",
    "        'dimclre': 1,            # 尺寸界线颜色\n",
    "        'dimclrt': 1,            # 尺寸文本颜色\n",
    "    }\n",
    ")\n",
    "dim2.render()\n",
    "\n",
    "# 保存DXF文件\n",
    "doc.saveas('modifie_with_dimensions.dxf')"
   ]
  }
 ],
 "metadata": {
  "kernelspec": {
   "display_name": "Python 3",
   "language": "python",
   "name": "python3"
  },
  "language_info": {
   "codemirror_mode": {
    "name": "ipython",
    "version": 3
   },
   "file_extension": ".py",
   "mimetype": "text/x-python",
   "name": "python",
   "nbconvert_exporter": "python",
   "pygments_lexer": "ipython3",
   "version": "3.8.3"
  },
  "varInspector": {
   "cols": {
    "lenName": 16,
    "lenType": 16,
    "lenVar": 40
   },
   "kernels_config": {
    "python": {
     "delete_cmd_postfix": "",
     "delete_cmd_prefix": "del ",
     "library": "var_list.py",
     "varRefreshCmd": "print(var_dic_list())"
    },
    "r": {
     "delete_cmd_postfix": ") ",
     "delete_cmd_prefix": "rm(",
     "library": "var_list.r",
     "varRefreshCmd": "cat(var_dic_list()) "
    }
   },
   "types_to_exclude": [
    "module",
    "function",
    "builtin_function_or_method",
    "instance",
    "_Feature"
   ],
   "window_display": false
  }
 },
 "nbformat": 4,
 "nbformat_minor": 4
}
