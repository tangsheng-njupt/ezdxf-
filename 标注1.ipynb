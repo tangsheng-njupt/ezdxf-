{
 "cells": [
  {
   "cell_type": "code",
   "execution_count": 5,
   "metadata": {},
   "outputs": [],
   "source": [
    "import ezdxf\n",
    "\n",
    "# 创建一个新的DXF文档\n",
    "doc = ezdxf.new('R2010', setup=True)\n",
    "msp = doc.modelspace()\n",
    "\n",
    "# 添加矩形\n",
    "msp.add_lwpolyline([(0, 0), (1200, 0), (1200, 900), (0, 900), (0, 0)], close=True)\n",
    "\n",
    "# 添加分割线\n",
    "msp.add_line((600, 0), (600, 900), dxfattribs={'linetype': 'DASHED'})\n",
    "\n",
    "# 添加填充的左侧部分\n",
    "hatch = msp.add_hatch(color=8)\n",
    "hatch.set_pattern_fill('AR-B816', scale=1.0)\n",
    "hatch.paths.add_polyline_path([(0, 0), (600, 0), (600, 900), (0, 900), (0, 0)], is_closed=True)\n",
    "\n",
    "# 添加水平尺寸标注（宽度）\n",
    "dim1 = msp.add_linear_dim(\n",
    "    base=(0, -500),  # 尺寸线的基线位置\n",
    "    p1=(0, 0),      # 尺寸起点\n",
    "    p2=(1200, 0),  # 尺寸终点\n",
    "    override={\n",
    "        'dimtxsty': 'Standard',  # 使用标准文本样式\n",
    "        'dimclrd': 1,            # 尺寸线颜色\n",
    "        'dimclre': 1,            # 尺寸界线颜色\n",
    "        'dimclrt': 1,            # 尺寸文本颜色\n",
    "    }\n",
    ")\n",
    "dim1.render()\n",
    "\n",
    "# 手动调整水平尺寸标注的位置\n",
    "dim1.set_location((0, -500))\n",
    "\n",
    "# 添加垂直尺寸标注（高度）\n",
    "dim2 = msp.add_linear_dim(\n",
    "    base=(-500, 0),  # 尺寸线的基线位置\n",
    "    p1=(0, 0),      # 尺寸起点\n",
    "    p2=(0, 900),   # 尺寸终点\n",
    "    angle=90,       # 尺寸线的角度\n",
    "    override={\n",
    "        'dimtxsty': 'Standard',  # 使用标准文本样式\n",
    "        'dimclrd': 1,            # 尺寸线颜色\n",
    "        'dimclre': 1,            # 尺寸界线颜色\n",
    "        'dimclrt': 1,            # 尺寸文本颜色\n",
    "    }\n",
    ")\n",
    "dim2.render()\n",
    "\n",
    "# 手动调整垂直尺寸标注的位置\n",
    "dim2.set_location((-50, 0))\n",
    "\n",
    "# 保存DXF文件\n",
    "doc.saveas('filled_rectangle_with_dimensions.dxf')"
   ]
  }
 ],
 "metadata": {
  "kernelspec": {
   "display_name": "Python 3",
   "language": "python",
   "name": "python3"
  },
  "language_info": {
   "codemirror_mode": {
    "name": "ipython",
    "version": 3
   },
   "file_extension": ".py",
   "mimetype": "text/x-python",
   "name": "python",
   "nbconvert_exporter": "python",
   "pygments_lexer": "ipython3",
   "version": "3.8.3"
  },
  "varInspector": {
   "cols": {
    "lenName": 16,
    "lenType": 16,
    "lenVar": 40
   },
   "kernels_config": {
    "python": {
     "delete_cmd_postfix": "",
     "delete_cmd_prefix": "del ",
     "library": "var_list.py",
     "varRefreshCmd": "print(var_dic_list())"
    },
    "r": {
     "delete_cmd_postfix": ") ",
     "delete_cmd_prefix": "rm(",
     "library": "var_list.r",
     "varRefreshCmd": "cat(var_dic_list()) "
    }
   },
   "types_to_exclude": [
    "module",
    "function",
    "builtin_function_or_method",
    "instance",
    "_Feature"
   ],
   "window_display": false
  }
 },
 "nbformat": 4,
 "nbformat_minor": 4
}
